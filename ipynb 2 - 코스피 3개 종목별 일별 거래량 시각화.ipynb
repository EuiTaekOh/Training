{
 "cells": [
  {
   "cell_type": "code",
   "execution_count": 1,
   "metadata": {
    "collapsed": true
   },
   "outputs": [],
   "source": [
    "%matplotlib inline\n",
    "from matplotlib import pyplot as plt\n",
    "import pandas as pd\n",
    "import seaborn as sns\n",
    "\n",
    "plt.rcParams['axes.unicode_minus'] = False\n",
    "plt.rcParams['font.family'] = 'Malgun Gothic'\n",
    "\n",
    "from tqdm import tqdm   # pip install tqdm\n",
    "from libs import stock_daum, stock_naver"
   ]
  },
  {
   "cell_type": "code",
   "execution_count": 2,
   "metadata": {
    "collapsed": true
   },
   "outputs": [],
   "source": [
    "# https://matplotlib.org/gallery/ticks_and_spines/tick-formatters.html\n",
    "from matplotlib.ticker import FuncFormatter"
   ]
  },
  {
   "cell_type": "markdown",
   "metadata": {},
   "source": [
    "## 코스피 종목코드 수집\n",
    "\n",
    "+ 코스피 종목코드 : https://gist.github.com/allieus/733725662c644ab56c9db9d3cdf77ed1"
   ]
  },
  {
   "cell_type": "code",
   "execution_count": 3,
   "metadata": {
    "collapsed": false
   },
   "outputs": [
    {
     "name": "stdout",
     "output_type": "stream",
     "text": [
      "(768, 1)\n"
     ]
    },
    {
     "data": {
      "text/html": [
       "<div>\n",
       "<table border=\"1\" class=\"dataframe\">\n",
       "  <thead>\n",
       "    <tr style=\"text-align: right;\">\n",
       "      <th></th>\n",
       "      <th>종목코드</th>\n",
       "    </tr>\n",
       "    <tr>\n",
       "      <th>종목명</th>\n",
       "      <th></th>\n",
       "    </tr>\n",
       "  </thead>\n",
       "  <tbody>\n",
       "    <tr>\n",
       "      <th>미원에스씨</th>\n",
       "      <td>268280</td>\n",
       "    </tr>\n",
       "    <tr>\n",
       "      <th>경동도시가스</th>\n",
       "      <td>267290</td>\n",
       "    </tr>\n",
       "    <tr>\n",
       "      <th>넷마블게임즈</th>\n",
       "      <td>251270</td>\n",
       "    </tr>\n",
       "    <tr>\n",
       "      <th>아이엔지생명</th>\n",
       "      <td>079440</td>\n",
       "    </tr>\n",
       "    <tr>\n",
       "      <th>현대건설기계</th>\n",
       "      <td>267270</td>\n",
       "    </tr>\n",
       "  </tbody>\n",
       "</table>\n",
       "</div>"
      ],
      "text/plain": [
       "          종목코드\n",
       "종목명           \n",
       "미원에스씨   268280\n",
       "경동도시가스  267290\n",
       "넷마블게임즈  251270\n",
       "아이엔지생명  079440\n",
       "현대건설기계  267270"
      ]
     },
     "execution_count": 3,
     "metadata": {},
     "output_type": "execute_result"
    }
   ],
   "source": [
    "# 코스피 지수 CSV를 읽어들입니다.\n",
    "kospi_df = pd.read_csv(\"https://bit.ly/3g5YKXT\", index_col='종목명', dtype={'종목코드': str})\n",
    "print(kospi_df.shape)\n",
    "kospi_df.head()"
   ]
  },
  {
   "cell_type": "code",
   "execution_count": 5,
   "metadata": {
    "collapsed": true
   },
   "outputs": [],
   "source": [
    "kospi_series = kospi_df['종목코드']"
   ]
  },
  {
   "cell_type": "markdown",
   "metadata": {},
   "source": [
    "## 3개 종목의 일별 거래량 크롤링"
   ]
  },
  {
   "cell_type": "code",
   "execution_count": 6,
   "metadata": {
    "collapsed": true
   },
   "outputs": [],
   "source": [
    "code = kospi_series['삼성전자']\n",
    "삼성전자_volume_df = pd.concat(stock_naver.get_종목별_일별_거래량(code, max_page=5))\n",
    "\n",
    "code = kospi_series['LG전자']\n",
    "LG전자_volume_df = pd.concat(stock_naver.get_종목별_일별_거래량(code, max_page=5))\n",
    "\n",
    "code = kospi_series['SK하이닉스']\n",
    "SK하이닉스_volume_df = pd.concat(stock_naver.get_종목별_일별_거래량(code, max_page=5))"
   ]
  },
  {
   "cell_type": "code",
   "execution_count": 8,
   "metadata": {
    "collapsed": false
   },
   "outputs": [
    {
     "data": {
      "text/plain": [
       "날짜\n",
       "2021-04-28    82100.0\n",
       "2021-04-27    82900.0\n",
       "2021-04-26    83500.0\n",
       "2021-04-23    82800.0\n",
       "2021-04-22    82400.0\n",
       "2021-04-21    82600.0\n",
       "2021-04-20    83900.0\n",
       "2021-04-19    83300.0\n",
       "2021-04-16    83900.0\n",
       "2021-04-15    84100.0\n",
       "2021-04-14    84000.0\n",
       "2021-04-13    84000.0\n",
       "2021-04-12    83200.0\n",
       "2021-04-09    83600.0\n",
       "2021-04-08    84700.0\n",
       "2021-04-07    85600.0\n",
       "2021-04-06    86000.0\n",
       "2021-04-05    85400.0\n",
       "2021-04-02    84800.0\n",
       "2021-04-01    82900.0\n",
       "2021-03-31    81400.0\n",
       "2021-03-30    82200.0\n",
       "2021-03-29    81600.0\n",
       "2021-03-26    81500.0\n",
       "2021-03-25    81200.0\n",
       "2021-03-24    81000.0\n",
       "2021-03-23    81800.0\n",
       "2021-03-22    82000.0\n",
       "2021-03-19    81900.0\n",
       "2021-03-18    82900.0\n",
       "               ...   \n",
       "2021-01-15    88000.0\n",
       "2021-01-14    89700.0\n",
       "2021-01-13    89700.0\n",
       "2021-01-12    90600.0\n",
       "2021-01-11    91000.0\n",
       "2021-01-08    88800.0\n",
       "2021-01-07    82900.0\n",
       "2021-01-06    82200.0\n",
       "2021-01-05    83900.0\n",
       "2021-01-04    83000.0\n",
       "2020-12-30    81000.0\n",
       "2020-12-29    78300.0\n",
       "2020-12-28    78700.0\n",
       "2020-12-24    77800.0\n",
       "2020-12-23    73900.0\n",
       "2020-12-22    72300.0\n",
       "2020-12-21    73000.0\n",
       "2020-12-18    73000.0\n",
       "2020-12-17    73300.0\n",
       "2020-12-16    73800.0\n",
       "2020-12-15    73800.0\n",
       "2020-12-14    73800.0\n",
       "2020-12-11    73400.0\n",
       "2020-12-10    72900.0\n",
       "2020-12-09    73900.0\n",
       "2020-12-08    71700.0\n",
       "2020-12-07    72900.0\n",
       "2020-12-04    71500.0\n",
       "2020-12-03    69700.0\n",
       "2020-12-02    69500.0\n",
       "Name: 종가, dtype: float64"
      ]
     },
     "execution_count": 8,
     "metadata": {},
     "output_type": "execute_result"
    }
   ],
   "source": [
    "삼성전자_volume_df['종가']"
   ]
  },
  {
   "cell_type": "code",
   "execution_count": 9,
   "metadata": {
    "collapsed": false
   },
   "outputs": [
    {
     "name": "stdout",
     "output_type": "stream",
     "text": [
      "(100, 3)\n"
     ]
    },
    {
     "data": {
      "text/html": [
       "<div>\n",
       "<table border=\"1\" class=\"dataframe\">\n",
       "  <thead>\n",
       "    <tr style=\"text-align: right;\">\n",
       "      <th></th>\n",
       "      <th>LG전자</th>\n",
       "      <th>SK하이닉스</th>\n",
       "      <th>삼성전자</th>\n",
       "    </tr>\n",
       "    <tr>\n",
       "      <th>날짜</th>\n",
       "      <th></th>\n",
       "      <th></th>\n",
       "      <th></th>\n",
       "    </tr>\n",
       "  </thead>\n",
       "  <tbody>\n",
       "    <tr>\n",
       "      <th>2021-04-28</th>\n",
       "      <td>164000.0</td>\n",
       "      <td>130000.0</td>\n",
       "      <td>82100.0</td>\n",
       "    </tr>\n",
       "    <tr>\n",
       "      <th>2021-04-27</th>\n",
       "      <td>167000.0</td>\n",
       "      <td>135000.0</td>\n",
       "      <td>82900.0</td>\n",
       "    </tr>\n",
       "    <tr>\n",
       "      <th>2021-04-26</th>\n",
       "      <td>169500.0</td>\n",
       "      <td>131500.0</td>\n",
       "      <td>83500.0</td>\n",
       "    </tr>\n",
       "    <tr>\n",
       "      <th>2021-04-23</th>\n",
       "      <td>163500.0</td>\n",
       "      <td>132500.0</td>\n",
       "      <td>82800.0</td>\n",
       "    </tr>\n",
       "    <tr>\n",
       "      <th>2021-04-22</th>\n",
       "      <td>163500.0</td>\n",
       "      <td>133000.0</td>\n",
       "      <td>82400.0</td>\n",
       "    </tr>\n",
       "  </tbody>\n",
       "</table>\n",
       "</div>"
      ],
      "text/plain": [
       "                LG전자    SK하이닉스     삼성전자\n",
       "날짜                                     \n",
       "2021-04-28  164000.0  130000.0  82100.0\n",
       "2021-04-27  167000.0  135000.0  82900.0\n",
       "2021-04-26  169500.0  131500.0  83500.0\n",
       "2021-04-23  163500.0  132500.0  82800.0\n",
       "2021-04-22  163500.0  133000.0  82400.0"
      ]
     },
     "execution_count": 9,
     "metadata": {},
     "output_type": "execute_result"
    }
   ],
   "source": [
    "df = pd.DataFrame({\n",
    "    '삼성전자': 삼성전자_volume_df['종가'],\n",
    "    'LG전자': LG전자_volume_df['종가'],\n",
    "    'SK하이닉스': SK하이닉스_volume_df['종가'],\n",
    "})\n",
    "print(df.shape)\n",
    "df.head()"
   ]
  },
  {
   "cell_type": "markdown",
   "metadata": {},
   "source": [
    "## 시각화"
   ]
  },
  {
   "cell_type": "code",
   "execution_count": null,
   "metadata": {
    "collapsed": true
   },
   "outputs": [],
   "source": []
  },
  {
   "cell_type": "code",
   "execution_count": 10,
   "metadata": {
    "collapsed": false
   },
   "outputs": [
    {
     "data": {
      "image/png": "[encoded data removed]",
      "text/plain": [
       "<matplotlib.figure.Figure at 0x1da37a96eb8>"
      ]
     },
     "metadata": {},
     "output_type": "display_data"
    }
   ],
   "source": [
    "ax = df.plot(figsize=(15, 5))\n",
    "ax.yaxis.set_major_formatter(FuncFormatter(lambda y, pos: '{:,}'.format(int(y))))"
   ]
  },
  {
   "cell_type": "code",
   "execution_count": null,
   "metadata": {
    "collapsed": true
   },
   "outputs": [],
   "source": []
  }
 ],
 "metadata": {
  "kernelspec": {
   "display_name": "Python 3",
   "language": "python",
   "name": "python3"
  },
  "language_info": {
   "codemirror_mode": {
    "name": "ipython",
    "version": 3
   },
   "file_extension": ".py",
   "mimetype": "text/x-python",
   "name": "python",
   "nbconvert_exporter": "python",
   "pygments_lexer": "ipython3",
   "version": "3.6.0"
  }
 },
 "nbformat": 4,
 "nbformat_minor": 2
}
