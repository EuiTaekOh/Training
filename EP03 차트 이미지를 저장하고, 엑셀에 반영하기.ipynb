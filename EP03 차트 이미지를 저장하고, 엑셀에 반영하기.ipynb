{
 "cells": [
  {
   "cell_type": "code",
   "execution_count": 1,
   "metadata": {
    "collapsed": true
   },
   "outputs": [],
   "source": [
    "%matplotlib inline \n",
    "from matplotlib import pyplot as plt\n",
    "\n",
    "plt.rcParams['axes.unicode_minus'] = False\n",
    "plt.rcParams['font.family'] = 'Malgun Gothic'\n",
    "\n",
    "import pandas as pd"
   ]
  },
  {
   "cell_type": "code",
   "execution_count": 3,
   "metadata": {
    "collapsed": false
   },
   "outputs": [
    {
     "name": "stdout",
     "output_type": "stream",
     "text": [
      "(3189, 5)\n"
     ]
    },
    {
     "data": {
      "text/html": [
       "<div>\n",
       "<table border=\"1\" class=\"dataframe\">\n",
       "  <thead>\n",
       "    <tr style=\"text-align: right;\">\n",
       "      <th></th>\n",
       "      <th>체결가</th>\n",
       "      <th>전일비</th>\n",
       "      <th>등락률</th>\n",
       "      <th>거래량(천주)</th>\n",
       "      <th>거래대금(백만)</th>\n",
       "    </tr>\n",
       "    <tr>\n",
       "      <th>날짜</th>\n",
       "      <th></th>\n",
       "      <th></th>\n",
       "      <th></th>\n",
       "      <th></th>\n",
       "      <th></th>\n",
       "    </tr>\n",
       "  </thead>\n",
       "  <tbody>\n",
       "    <tr>\n",
       "      <th>2018-11-23</th>\n",
       "      <td>266.33</td>\n",
       "      <td>1.43</td>\n",
       "      <td>-0.53%</td>\n",
       "      <td>58346</td>\n",
       "      <td>2670694</td>\n",
       "    </tr>\n",
       "    <tr>\n",
       "      <th>2018-11-22</th>\n",
       "      <td>267.76</td>\n",
       "      <td>0.51</td>\n",
       "      <td>-0.19%</td>\n",
       "      <td>63147</td>\n",
       "      <td>2917863</td>\n",
       "    </tr>\n",
       "    <tr>\n",
       "      <th>2018-11-21</th>\n",
       "      <td>268.27</td>\n",
       "      <td>1.31</td>\n",
       "      <td>-0.49%</td>\n",
       "      <td>79375</td>\n",
       "      <td>3726326</td>\n",
       "    </tr>\n",
       "    <tr>\n",
       "      <th>2018-11-20</th>\n",
       "      <td>269.58</td>\n",
       "      <td>2.73</td>\n",
       "      <td>-1.00%</td>\n",
       "      <td>79088</td>\n",
       "      <td>3667388</td>\n",
       "    </tr>\n",
       "    <tr>\n",
       "      <th>2018-11-19</th>\n",
       "      <td>272.31</td>\n",
       "      <td>0.66</td>\n",
       "      <td>+0.24%</td>\n",
       "      <td>73094</td>\n",
       "      <td>3401282</td>\n",
       "    </tr>\n",
       "  </tbody>\n",
       "</table>\n",
       "</div>"
      ],
      "text/plain": [
       "               체결가   전일비     등락률  거래량(천주)  거래대금(백만)\n",
       "날짜                                                 \n",
       "2018-11-23  266.33  1.43  -0.53%    58346   2670694\n",
       "2018-11-22  267.76  0.51  -0.19%    63147   2917863\n",
       "2018-11-21  268.27  1.31  -0.49%    79375   3726326\n",
       "2018-11-20  269.58  2.73  -1.00%    79088   3667388\n",
       "2018-11-19  272.31  0.66  +0.24%    73094   3401282"
      ]
     },
     "execution_count": 3,
     "metadata": {},
     "output_type": "execute_result"
    }
   ],
   "source": [
    "df = pd.read_excel(\"data/sample-line-1.xlsx\", index_col = \"날짜\")\n",
    "print(df.shape)\n",
    "df.head()"
   ]
  },
  {
   "cell_type": "code",
   "execution_count": 5,
   "metadata": {
    "collapsed": false
   },
   "outputs": [
    {
     "data": {
      "image/png": "[encoded data removed]",
      "text/plain": [
       "<matplotlib.figure.Figure at 0x23d7e3d05f8>"
      ]
     },
     "metadata": {},
     "output_type": "display_data"
    }
   ],
   "source": [
    "ax = df.plot()\n",
    "figure = ax.figure\n",
    "figure.savefig('일일주식현황.png', dpi=300)"
   ]
  },
  {
   "cell_type": "code",
   "execution_count": 9,
   "metadata": {
    "collapsed": false
   },
   "outputs": [],
   "source": [
    "import xlwings as xw"
   ]
  },
  {
   "cell_type": "code",
   "execution_count": 10,
   "metadata": {
    "collapsed": false
   },
   "outputs": [
    {
     "data": {
      "text/plain": [
       "'0.10.2'"
      ]
     },
     "execution_count": 10,
     "metadata": {},
     "output_type": "execute_result"
    }
   ],
   "source": [
    "xw.__version__"
   ]
  },
  {
   "cell_type": "code",
   "execution_count": 11,
   "metadata": {
    "collapsed": true
   },
   "outputs": [],
   "source": [
    "sheet = xw.sheets.active"
   ]
  },
  {
   "cell_type": "code",
   "execution_count": 20,
   "metadata": {
    "collapsed": false
   },
   "outputs": [
    {
     "data": {
      "text/plain": [
       "<Picture '일일주식현황' in <Sheet [통합 문서1]Sheet1>>"
      ]
     },
     "execution_count": 20,
     "metadata": {},
     "output_type": "execute_result"
    }
   ],
   "source": [
    "sheet.pictures.add(figure, name = '일일주식현황', update = True)"
   ]
  },
  {
   "cell_type": "code",
   "execution_count": 19,
   "metadata": {
    "collapsed": false
   },
   "outputs": [
    {
     "data": {
      "text/plain": [
       "Pictures([<Picture '일일주식현황' in <Sheet [통합 문서1]Sheet1>>])"
      ]
     },
     "execution_count": 19,
     "metadata": {},
     "output_type": "execute_result"
    }
   ],
   "source": [
    "sheet.pictures"
   ]
  },
  {
   "cell_type": "code",
   "execution_count": 24,
   "metadata": {
    "collapsed": false
   },
   "outputs": [
    {
     "data": {
      "text/html": [
       "<div>\n",
       "<table border=\"1\" class=\"dataframe\">\n",
       "  <thead>\n",
       "    <tr style=\"text-align: right;\">\n",
       "      <th></th>\n",
       "      <th>체결가</th>\n",
       "      <th>전일비</th>\n",
       "      <th>등락률</th>\n",
       "      <th>거래량(천주)</th>\n",
       "      <th>거래대금(백만)</th>\n",
       "    </tr>\n",
       "    <tr>\n",
       "      <th>날짜</th>\n",
       "      <th></th>\n",
       "      <th></th>\n",
       "      <th></th>\n",
       "      <th></th>\n",
       "      <th></th>\n",
       "    </tr>\n",
       "  </thead>\n",
       "  <tbody>\n",
       "    <tr>\n",
       "      <th>2018-11-23</th>\n",
       "      <td>266.33</td>\n",
       "      <td>1.43</td>\n",
       "      <td>-0.53%</td>\n",
       "      <td>58346</td>\n",
       "      <td>2670694</td>\n",
       "    </tr>\n",
       "    <tr>\n",
       "      <th>2018-11-22</th>\n",
       "      <td>267.76</td>\n",
       "      <td>0.51</td>\n",
       "      <td>-0.19%</td>\n",
       "      <td>63147</td>\n",
       "      <td>2917863</td>\n",
       "    </tr>\n",
       "    <tr>\n",
       "      <th>2018-11-21</th>\n",
       "      <td>268.27</td>\n",
       "      <td>1.31</td>\n",
       "      <td>-0.49%</td>\n",
       "      <td>79375</td>\n",
       "      <td>3726326</td>\n",
       "    </tr>\n",
       "    <tr>\n",
       "      <th>2018-11-20</th>\n",
       "      <td>269.58</td>\n",
       "      <td>2.73</td>\n",
       "      <td>-1.00%</td>\n",
       "      <td>79088</td>\n",
       "      <td>3667388</td>\n",
       "    </tr>\n",
       "    <tr>\n",
       "      <th>2018-11-19</th>\n",
       "      <td>272.31</td>\n",
       "      <td>0.66</td>\n",
       "      <td>+0.24%</td>\n",
       "      <td>73094</td>\n",
       "      <td>3401282</td>\n",
       "    </tr>\n",
       "    <tr>\n",
       "      <th>2018-11-16</th>\n",
       "      <td>271.65</td>\n",
       "      <td>0.11</td>\n",
       "      <td>+0.04%</td>\n",
       "      <td>72867</td>\n",
       "      <td>3382415</td>\n",
       "    </tr>\n",
       "    <tr>\n",
       "      <th>2018-11-15</th>\n",
       "      <td>271.54</td>\n",
       "      <td>2.66</td>\n",
       "      <td>+0.99%</td>\n",
       "      <td>72804</td>\n",
       "      <td>3522952</td>\n",
       "    </tr>\n",
       "    <tr>\n",
       "      <th>2018-11-14</th>\n",
       "      <td>268.88</td>\n",
       "      <td>0.82</td>\n",
       "      <td>-0.30%</td>\n",
       "      <td>85611</td>\n",
       "      <td>4249973</td>\n",
       "    </tr>\n",
       "    <tr>\n",
       "      <th>2018-11-13</th>\n",
       "      <td>269.70</td>\n",
       "      <td>1.87</td>\n",
       "      <td>-0.69%</td>\n",
       "      <td>85526</td>\n",
       "      <td>4513373</td>\n",
       "    </tr>\n",
       "    <tr>\n",
       "      <th>2018-11-12</th>\n",
       "      <td>271.57</td>\n",
       "      <td>0.24</td>\n",
       "      <td>+0.09%</td>\n",
       "      <td>77111</td>\n",
       "      <td>4434409</td>\n",
       "    </tr>\n",
       "  </tbody>\n",
       "</table>\n",
       "</div>"
      ],
      "text/plain": [
       "               체결가   전일비     등락률  거래량(천주)  거래대금(백만)\n",
       "날짜                                                 \n",
       "2018-11-23  266.33  1.43  -0.53%    58346   2670694\n",
       "2018-11-22  267.76  0.51  -0.19%    63147   2917863\n",
       "2018-11-21  268.27  1.31  -0.49%    79375   3726326\n",
       "2018-11-20  269.58  2.73  -1.00%    79088   3667388\n",
       "2018-11-19  272.31  0.66  +0.24%    73094   3401282\n",
       "2018-11-16  271.65  0.11  +0.04%    72867   3382415\n",
       "2018-11-15  271.54  2.66  +0.99%    72804   3522952\n",
       "2018-11-14  268.88  0.82  -0.30%    85611   4249973\n",
       "2018-11-13  269.70  1.87  -0.69%    85526   4513373\n",
       "2018-11-12  271.57  0.24  +0.09%    77111   4434409"
      ]
     },
     "execution_count": 24,
     "metadata": {},
     "output_type": "execute_result"
    }
   ],
   "source": [
    "df.iloc[:10]"
   ]
  },
  {
   "cell_type": "code",
   "execution_count": 25,
   "metadata": {
    "collapsed": false
   },
   "outputs": [
    {
     "name": "stderr",
     "output_type": "stream",
     "text": [
      "C:\\Users\\oo92x\\Anaconda3\\lib\\site-packages\\xlwings\\_xlwindows.py:1024: FutureWarning: to_datetime is deprecated. Use self.to_pydatetime()\n",
      "  return _datetime_to_com_time(x)\n"
     ]
    }
   ],
   "source": [
    "xw.view(df.iloc[:10], sheet=sheet)"
   ]
  },
  {
   "cell_type": "code",
   "execution_count": 65,
   "metadata": {
    "collapsed": false
   },
   "outputs": [
    {
     "name": "stderr",
     "output_type": "stream",
     "text": [
      "C:\\Users\\oo92x\\Anaconda3\\lib\\site-packages\\xlwings\\_xlwindows.py:1024: FutureWarning: to_datetime is deprecated. Use self.to_pydatetime()\n",
      "  return _datetime_to_com_time(x)\n"
     ]
    }
   ],
   "source": [
    "sheet.range('A1').value = df.iloc[:10]"
   ]
  },
  {
   "cell_type": "code",
   "execution_count": 32,
   "metadata": {
    "collapsed": true
   },
   "outputs": [],
   "source": [
    "left = sheet.range('G1').left\n",
    "top = sheet.range('G1').top"
   ]
  },
  {
   "cell_type": "code",
   "execution_count": 34,
   "metadata": {
    "collapsed": false
   },
   "outputs": [
    {
     "data": {
      "text/plain": [
       "<Picture '일일주식현황' in <Sheet [통합 문서1]Sheet1>>"
      ]
     },
     "execution_count": 34,
     "metadata": {},
     "output_type": "execute_result"
    }
   ],
   "source": [
    "sheet.pictures.add(figure, name = '일일주식현황', update = True, left = left , top = top)"
   ]
  },
  {
   "cell_type": "code",
   "execution_count": 35,
   "metadata": {
    "collapsed": true
   },
   "outputs": [],
   "source": [
    "table_range = sheet.range('A1').expand()"
   ]
  },
  {
   "cell_type": "code",
   "execution_count": 38,
   "metadata": {
    "collapsed": true
   },
   "outputs": [],
   "source": [
    "picture_left = table_range.left + table_range.width+1\n",
    "picture_top = table_range.top"
   ]
  },
  {
   "cell_type": "code",
   "execution_count": 44,
   "metadata": {
    "collapsed": false
   },
   "outputs": [],
   "source": [
    "sheet.pictures.add(figure, name = '일일주식현황', update = True, left = picture_left , top = picture_top)\n",
    "table_range.columns.autofit()"
   ]
  },
  {
   "cell_type": "code",
   "execution_count": null,
   "metadata": {
    "collapsed": true
   },
   "outputs": [],
   "source": []
  },
  {
   "cell_type": "code",
   "execution_count": 57,
   "metadata": {
    "collapsed": true
   },
   "outputs": [],
   "source": [
    "def 엑셀에_반영(start_range, df, name):\n",
    "    ax = df.plot(figsize=(7,4))\n",
    "    start_range.value = df.iloc[:10]\n",
    "    \n",
    "    table_range = start_range.expand()\n",
    "    left = table_range.left + table_range.width + 1\n",
    "    top = table_range.top\n",
    "    start_range.sheet.pictures.add(ax.figure, name = name, update = True, left = left ,top = top)\n",
    "    table_range.columns.autofit()"
   ]
  },
  {
   "cell_type": "code",
   "execution_count": 49,
   "metadata": {
    "collapsed": false
   },
   "outputs": [
    {
     "data": {
      "text/plain": [
       "<Range [통합 문서1]Sheet2!$C$3>"
      ]
     },
     "execution_count": 49,
     "metadata": {},
     "output_type": "execute_result"
    }
   ],
   "source": [
    "xw.Range('C3')"
   ]
  },
  {
   "cell_type": "code",
   "execution_count": null,
   "metadata": {
    "collapsed": true
   },
   "outputs": [],
   "source": []
  },
  {
   "cell_type": "code",
   "execution_count": 64,
   "metadata": {
    "collapsed": false
   },
   "outputs": [
    {
     "name": "stderr",
     "output_type": "stream",
     "text": [
      "C:\\Users\\oo92x\\Anaconda3\\lib\\site-packages\\xlwings\\_xlwindows.py:1024: FutureWarning: to_datetime is deprecated. Use self.to_pydatetime()\n",
      "  return _datetime_to_com_time(x)\n"
     ]
    },
    {
     "data": {
      "image/png": "[encoded data removed]",
      "text/plain": [
       "<matplotlib.figure.Figure at 0x23d0b11ae48>"
      ]
     },
     "metadata": {},
     "output_type": "display_data"
    }
   ],
   "source": [
    "index = df.index\n",
    "sample_df = df.sample(frac=1).reset_index(drop = True)\n",
    "sample_df.index = index\n",
    "\n",
    "엑셀에_반영(xw.Range('C3'), sample_df, '일일주식현황')"
   ]
  },
  {
   "cell_type": "code",
   "execution_count": null,
   "metadata": {
    "collapsed": true
   },
   "outputs": [],
   "source": []
  },
  {
   "cell_type": "code",
   "execution_count": null,
   "metadata": {
    "collapsed": true
   },
   "outputs": [],
   "source": []
  },
  {
   "cell_type": "code",
   "execution_count": null,
   "metadata": {
    "collapsed": true
   },
   "outputs": [],
   "source": []
  },
  {
   "cell_type": "code",
   "execution_count": null,
   "metadata": {
    "collapsed": true
   },
   "outputs": [],
   "source": []
  },
  {
   "cell_type": "code",
   "execution_count": null,
   "metadata": {
    "collapsed": true
   },
   "outputs": [],
   "source": []
  },
  {
   "cell_type": "code",
   "execution_count": null,
   "metadata": {
    "collapsed": true
   },
   "outputs": [],
   "source": []
  },
  {
   "cell_type": "code",
   "execution_count": null,
   "metadata": {
    "collapsed": true
   },
   "outputs": [],
   "source": []
  }
 ],
 "metadata": {
  "kernelspec": {
   "display_name": "Python 3",
   "language": "python",
   "name": "python3"
  },
  "language_info": {
   "codemirror_mode": {
    "name": "ipython",
    "version": 3
   },
   "file_extension": ".py",
   "mimetype": "text/x-python",
   "name": "python",
   "nbconvert_exporter": "python",
   "pygments_lexer": "ipython3",
   "version": "3.6.0"
  }
 },
 "nbformat": 4,
 "nbformat_minor": 2
}
