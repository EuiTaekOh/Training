{
 "cells": [
  {
   "cell_type": "code",
   "execution_count": 2,
   "metadata": {
    "collapsed": false
   },
   "outputs": [
    {
     "data": {
      "text/plain": [
       "'C:\\\\Users\\\\oo92x\\\\Desktop\\\\KB국민은행 연수\\\\2. 디지털\\\\[직딩잇템] 파이썬 시각화 라이브러리로 엑셀 대시보드 만들기\\\\visualization-101-share (updated 20210308)\\\\실습파일\\\\share'"
      ]
     },
     "execution_count": 2,
     "metadata": {},
     "output_type": "execute_result"
    }
   ],
   "source": [
    "%pwd"
   ]
  },
  {
   "cell_type": "code",
   "execution_count": 3,
   "metadata": {
    "collapsed": false
   },
   "outputs": [
    {
     "name": "stdout",
     "output_type": "stream",
     "text": [
      " C 드라이브의 볼륨에는 이름이 없습니다.\n",
      " 볼륨 일련 번호: 148A-EF51\n",
      "\n",
      " C:\\Users\\oo92x\\Desktop\\KB국민은행 연수\\2. 디지털\\[직딩잇템] 파이썬 시각화 라이브러리로 엑셀 대시보드 만들기\\visualization-101-share (updated 20210308)\\실습파일\\share 디렉터리\n",
      "\n",
      "2021-04-25  오후 08:00    <DIR>          .\n",
      "2021-04-25  오후 08:00    <DIR>          ..\n",
      "2021-04-25  오후 07:51    <DIR>          data\n",
      "2021-04-25  오후 07:59                72 EP01.ipynb\n",
      "2018-11-27  오후 07:37           151,233 ipynb 1 - KOSPI200 지수와 S&P500 지수 비교하기.ipynb\n",
      "2020-12-08  오후 04:38            60,616 ipynb 2 - 코스피 3개 종목별 일별 거래량 시각화.ipynb\n",
      "2018-11-27  오후 03:09            49,469 ipynb 3 - 실시간 국내증시 인기검색 종목 시각화.ipynb\n",
      "2020-12-08  오후 04:38           192,378 ipynb 4 - 코스피 3개 종목별 실시간 시세 시각화.ipynb\n",
      "2021-04-25  오후 07:51    <DIR>          libs\n",
      "               5개 파일             453,768 바이트\n",
      "               4개 디렉터리   2,514,440,192 바이트 남음\n"
     ]
    }
   ],
   "source": [
    "%ls"
   ]
  },
  {
   "cell_type": "code",
   "execution_count": 9,
   "metadata": {
    "collapsed": false,
    "scrolled": true
   },
   "outputs": [],
   "source": [
    "##초기화 코드\n",
    "\n",
    "%matplotlib inline #인라인 코드 때문에 show() 함수를 호출하지 않아도 차트가 표출된다.\n",
    "from matplotlib import pyplot as plt\n",
    "import pandas as pd\n",
    "import seaborn as sns\n",
    "\n",
    "plt.rcParams['axes.unicode_minus'] = False\n",
    "plt.rcParams['font.family'] = 'Malgun Gothic'\n",
    "\n",
    "from tqdm import tqdm_notebook  #pip\n",
    "from libs import stock_daum,stock_naver #local\n"
   ]
  },
  {
   "cell_type": "code",
   "execution_count": null,
   "metadata": {
    "collapsed": true
   },
   "outputs": [],
   "source": []
  },
  {
   "cell_type": "code",
   "execution_count": 11,
   "metadata": {
    "collapsed": false,
    "scrolled": true
   },
   "outputs": [],
   "source": [
    "from matplotlib import pyplot as plt\n",
    "\n",
    "x = [0,1,2,3]\n",
    "y = [1,4,9,16]\n",
    "\n",
    "\n"
   ]
  },
  {
   "cell_type": "code",
   "execution_count": 12,
   "metadata": {
    "collapsed": false
   },
   "outputs": [
    {
     "data": {
      "image/png": "[encoded data removed]",
      "text/plain": [
       "<matplotlib.figure.Figure at 0x1681bb25518>"
      ]
     },
     "metadata": {},
     "output_type": "display_data"
    }
   ],
   "source": [
    "plt.plot(x,y)\n",
    "plt.title(\"Line Plot\")\n",
    "plt.xlabel(\"X축\")\n",
    "plt.ylabel(\"Y축\")\n",
    "plt.show()"
   ]
  },
  {
   "cell_type": "code",
   "execution_count": null,
   "metadata": {
    "collapsed": true
   },
   "outputs": [],
   "source": []
  },
  {
   "cell_type": "code",
   "execution_count": null,
   "metadata": {
    "collapsed": true
   },
   "outputs": [],
   "source": []
  },
  {
   "cell_type": "code",
   "execution_count": null,
   "metadata": {
    "collapsed": true
   },
   "outputs": [],
   "source": []
  },
  {
   "cell_type": "code",
   "execution_count": null,
   "metadata": {
    "collapsed": true
   },
   "outputs": [],
   "source": []
  },
  {
   "cell_type": "code",
   "execution_count": null,
   "metadata": {
    "collapsed": true
   },
   "outputs": [],
   "source": []
  },
  {
   "cell_type": "code",
   "execution_count": null,
   "metadata": {
    "collapsed": true
   },
   "outputs": [],
   "source": []
  }
 ],
 "metadata": {
  "kernelspec": {
   "display_name": "Python 3",
   "language": "python",
   "name": "python3"
  },
  "language_info": {
   "codemirror_mode": {
    "name": "ipython",
    "version": 3
   },
   "file_extension": ".py",
   "mimetype": "text/x-python",
   "name": "python",
   "nbconvert_exporter": "python",
   "pygments_lexer": "ipython3",
   "version": "3.6.0"
  }
 },
 "nbformat": 4,
 "nbformat_minor": 2
}
